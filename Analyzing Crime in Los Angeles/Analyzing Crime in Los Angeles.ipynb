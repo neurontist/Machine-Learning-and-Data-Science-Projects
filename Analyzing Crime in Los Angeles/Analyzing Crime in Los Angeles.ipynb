{
 "cells": [
  {
   "cell_type": "markdown",
   "id": "10a1280e-dcd4-42e9-8141-71f7b1455738",
   "metadata": {},
   "source": [
    "![Los Angeles skyline](la_skyline.jpg)\n",
    "\n",
    "Los Angeles, California 😎. The City of Angels. Tinseltown. The Entertainment Capital of the World! \n",
    "\n",
    "Known for its warm weather, palm trees, sprawling coastline, and Hollywood, along with producing some of the most iconic films and songs. However, as with any highly populated city, it isn't always glamorous and there can be a large volume of crime. That's where you can help!\n",
    "\n",
    "You have been asked to support the Los Angeles Police Department (LAPD) by analyzing crime data to identify patterns in criminal behavior. They plan to use your insights to allocate resources effectively to tackle various crimes in different areas.\n",
    "\n",
    "## The Data\n",
    "\n",
    "They have provided you with a single dataset to use. A summary and preview are provided below.\n",
    "\n",
    "It is a modified version of the original data, which is publicly available from Los Angeles Open Data.\n",
    "\n",
    "# crimes.csv\n",
    "\n",
    "| Column     | Description              |\n",
    "|------------|--------------------------|\n",
    "| `'DR_NO'` | Division of Records Number: Official file number made up of a 2-digit year, area ID, and 5 digits. |\n",
    "| `'Date Rptd'` | Date reported - MM/DD/YYYY. |\n",
    "| `'DATE OCC'` | Date of occurrence - MM/DD/YYYY. |\n",
    "| `'TIME OCC'` | In 24-hour military time. |\n",
    "| `'AREA NAME'` | The 21 Geographic Areas or Patrol Divisions are also given a name designation that references a landmark or the surrounding community that it is responsible for. For example, the 77th Street Division is located at the intersection of South Broadway and 77th Street, serving neighborhoods in South Los Angeles. |\n",
    "| `'Crm Cd Desc'` | Indicates the crime committed. |\n",
    "| `'Vict Age'` | Victim's age in years. |\n",
    "| `'Vict Sex'` | Victim's sex: `F`: Female, `M`: Male, `X`: Unknown. |\n",
    "| `'Vict Descent'` | Victim's descent:<ul><li>`A` - Other Asian</li><li>`B` - Black</li><li>`C` - Chinese</li><li>`D` - Cambodian</li><li>`F` - Filipino</li><li>`G` - Guamanian</li><li>`H` - Hispanic/Latin/Mexican</li><li>`I` - American Indian/Alaskan Native</li><li>`J` - Japanese</li><li>`K` - Korean</li><li>`L` - Laotian</li><li>`O` - Other</li><li>`P` - Pacific Islander</li><li>`S` - Samoan</li><li>`U` - Hawaiian</li><li>`V` - Vietnamese</li><li>`W` - White</li><li>`X` - Unknown</li><li>`Z` - Asian Indian</li> |\n",
    "| `'Weapon Desc'` | Description of the weapon used (if applicable). |\n",
    "| `'Status Desc'` | Crime status. |\n",
    "| `'LOCATION'` | Street address of the crime. |"
   ]
  },
  {
   "cell_type": "markdown",
   "id": "98db4162-a237-437d-9817-aaaabb8265d7",
   "metadata": {},
   "source": [
    "# 🕵️ Crime Data Analysis\n",
    "\n",
    "In this notebook, we will explore the **crimes.csv** dataset to uncover important patterns such as:\n",
    "\n",
    "1. Which hour of the day has the highest frequency of crimes?  \n",
    "2. Which area experiences the most night crimes (10 PM – 3:59 AM)?  \n",
    "3. How many crimes are committed against victims in different age groups?  \n",
    "\n",
    "We will use `pandas`, `matplotlib`, and `seaborn` for our analysis and visualization.\n"
   ]
  },
  {
   "cell_type": "code",
   "execution_count": 2,
   "id": "c8035d5d-ab5c-4684-bc0b-178384336086",
   "metadata": {},
   "outputs": [
    {
     "data": {
      "text/html": [
       "<div>\n",
       "<style scoped>\n",
       "    .dataframe tbody tr th:only-of-type {\n",
       "        vertical-align: middle;\n",
       "    }\n",
       "\n",
       "    .dataframe tbody tr th {\n",
       "        vertical-align: top;\n",
       "    }\n",
       "\n",
       "    .dataframe thead th {\n",
       "        text-align: right;\n",
       "    }\n",
       "</style>\n",
       "<table border=\"1\" class=\"dataframe\">\n",
       "  <thead>\n",
       "    <tr style=\"text-align: right;\">\n",
       "      <th></th>\n",
       "      <th>DR_NO</th>\n",
       "      <th>Date Rptd</th>\n",
       "      <th>DATE OCC</th>\n",
       "      <th>TIME OCC</th>\n",
       "      <th>AREA NAME</th>\n",
       "      <th>Crm Cd Desc</th>\n",
       "      <th>Vict Age</th>\n",
       "      <th>Vict Sex</th>\n",
       "      <th>Vict Descent</th>\n",
       "      <th>Weapon Desc</th>\n",
       "      <th>Status Desc</th>\n",
       "      <th>LOCATION</th>\n",
       "    </tr>\n",
       "  </thead>\n",
       "  <tbody>\n",
       "    <tr>\n",
       "      <th>0</th>\n",
       "      <td>220314085</td>\n",
       "      <td>2022-07-22</td>\n",
       "      <td>2020-05-12</td>\n",
       "      <td>1110</td>\n",
       "      <td>Southwest</td>\n",
       "      <td>THEFT OF IDENTITY</td>\n",
       "      <td>27</td>\n",
       "      <td>F</td>\n",
       "      <td>B</td>\n",
       "      <td>NaN</td>\n",
       "      <td>Invest Cont</td>\n",
       "      <td>2500 S  SYCAMORE                     AV</td>\n",
       "    </tr>\n",
       "    <tr>\n",
       "      <th>1</th>\n",
       "      <td>222013040</td>\n",
       "      <td>2022-08-06</td>\n",
       "      <td>2020-06-04</td>\n",
       "      <td>1620</td>\n",
       "      <td>Olympic</td>\n",
       "      <td>THEFT OF IDENTITY</td>\n",
       "      <td>60</td>\n",
       "      <td>M</td>\n",
       "      <td>H</td>\n",
       "      <td>NaN</td>\n",
       "      <td>Invest Cont</td>\n",
       "      <td>3300    SAN MARINO                   ST</td>\n",
       "    </tr>\n",
       "    <tr>\n",
       "      <th>2</th>\n",
       "      <td>220614831</td>\n",
       "      <td>2022-08-18</td>\n",
       "      <td>2020-08-17</td>\n",
       "      <td>1200</td>\n",
       "      <td>Hollywood</td>\n",
       "      <td>THEFT OF IDENTITY</td>\n",
       "      <td>28</td>\n",
       "      <td>M</td>\n",
       "      <td>H</td>\n",
       "      <td>NaN</td>\n",
       "      <td>Invest Cont</td>\n",
       "      <td>1900    TRANSIENT</td>\n",
       "    </tr>\n",
       "    <tr>\n",
       "      <th>3</th>\n",
       "      <td>231207725</td>\n",
       "      <td>2023-02-27</td>\n",
       "      <td>2020-01-27</td>\n",
       "      <td>0635</td>\n",
       "      <td>77th Street</td>\n",
       "      <td>THEFT OF IDENTITY</td>\n",
       "      <td>37</td>\n",
       "      <td>M</td>\n",
       "      <td>H</td>\n",
       "      <td>NaN</td>\n",
       "      <td>Invest Cont</td>\n",
       "      <td>6200    4TH                          AV</td>\n",
       "    </tr>\n",
       "    <tr>\n",
       "      <th>4</th>\n",
       "      <td>220213256</td>\n",
       "      <td>2022-07-14</td>\n",
       "      <td>2020-07-14</td>\n",
       "      <td>0900</td>\n",
       "      <td>Rampart</td>\n",
       "      <td>THEFT OF IDENTITY</td>\n",
       "      <td>79</td>\n",
       "      <td>M</td>\n",
       "      <td>B</td>\n",
       "      <td>NaN</td>\n",
       "      <td>Invest Cont</td>\n",
       "      <td>1200 W  7TH                          ST</td>\n",
       "    </tr>\n",
       "  </tbody>\n",
       "</table>\n",
       "</div>"
      ],
      "text/plain": [
       "       DR_NO   Date Rptd    DATE OCC TIME OCC    AREA NAME        Crm Cd Desc  \\\n",
       "0  220314085  2022-07-22  2020-05-12     1110    Southwest  THEFT OF IDENTITY   \n",
       "1  222013040  2022-08-06  2020-06-04     1620      Olympic  THEFT OF IDENTITY   \n",
       "2  220614831  2022-08-18  2020-08-17     1200    Hollywood  THEFT OF IDENTITY   \n",
       "3  231207725  2023-02-27  2020-01-27     0635  77th Street  THEFT OF IDENTITY   \n",
       "4  220213256  2022-07-14  2020-07-14     0900      Rampart  THEFT OF IDENTITY   \n",
       "\n",
       "   Vict Age Vict Sex Vict Descent Weapon Desc  Status Desc  \\\n",
       "0        27        F            B         NaN  Invest Cont   \n",
       "1        60        M            H         NaN  Invest Cont   \n",
       "2        28        M            H         NaN  Invest Cont   \n",
       "3        37        M            H         NaN  Invest Cont   \n",
       "4        79        M            B         NaN  Invest Cont   \n",
       "\n",
       "                                  LOCATION  \n",
       "0  2500 S  SYCAMORE                     AV  \n",
       "1  3300    SAN MARINO                   ST  \n",
       "2                        1900    TRANSIENT  \n",
       "3  6200    4TH                          AV  \n",
       "4  1200 W  7TH                          ST  "
      ]
     },
     "execution_count": 2,
     "metadata": {},
     "output_type": "execute_result"
    }
   ],
   "source": [
    "# 📦 Importing required libraries\n",
    "import pandas as pd\n",
    "import numpy as np\n",
    "import matplotlib.pyplot as plt\n",
    "import seaborn as sns\n",
    "\n",
    "# Load the dataset\n",
    "crimes = pd.read_csv(\"data/crimes.csv\", dtype={\"TIME OCC\": str})\n",
    "crimes.head()\n"
   ]
  },
  {
   "cell_type": "markdown",
   "id": "b9b86d71-8287-4c88-a371-db426097d75b",
   "metadata": {},
   "source": [
    "## ⏰ Step 1: Extract Crime Hours  \n",
    "The `TIME OCC` column stores crime times in HHMM format.  \n",
    "We will extract the first two digits to get the **hour of occurrence** and then analyze the distribution of crimes across hours.\n"
   ]
  },
  {
   "cell_type": "code",
   "execution_count": 3,
   "id": "eb58b567-80e1-44b8-87e6-4c05455ca982",
   "metadata": {},
   "outputs": [
    {
     "data": {
      "image/png": "[encoded data removed]",
      "text/plain": [
       "<Figure size 640x480 with 1 Axes>"
      ]
     },
     "metadata": {},
     "output_type": "display_data"
    },
    {
     "name": "stdout",
     "output_type": "stream",
     "text": [
      "Highest Frequency of crimes occurs at hour: 12\n"
     ]
    }
   ],
   "source": [
    "# Extracting the hour from TIME OCC (HHMM format)\n",
    "crimes['HOUR OCC'] = crimes['TIME OCC'].str[:2].astype(int)\n",
    "\n",
    "# Visualizing the distribution of crimes by hour\n",
    "sns.countplot(x=\"HOUR OCC\", data=crimes, color=\"steelblue\")\n",
    "plt.title(\"Crime Frequency by Hour of the Day\")\n",
    "plt.xlabel(\"Hour of the Day\")\n",
    "plt.ylabel(\"Number of Crimes\")\n",
    "plt.show()\n",
    "\n",
    "# Finding the hour with the highest frequency of crimes\n",
    "peak_crime_hour = crimes['HOUR OCC'].value_counts().idxmax()\n",
    "print(f\"Highest Frequency of crimes occurs at hour: {peak_crime_hour}\")\n"
   ]
  },
  {
   "cell_type": "markdown",
   "id": "305521ef-2ac6-4ead-8b78-c42e2b7d2a85",
   "metadata": {},
   "source": [
    "## 🌙 Step 2: Analyze Night Crimes  \n",
    "We define **night crimes** as those committed between **10 PM (22:00) and 3:59 AM**.  \n",
    "We will filter the dataset for this time window and determine which **area** has the most such crimes.\n"
   ]
  },
  {
   "cell_type": "code",
   "execution_count": 5,
   "id": "1636317a-9ba6-4677-86aa-5ad9c52c9390",
   "metadata": {},
   "outputs": [
    {
     "data": {
      "image/png": "[encoded data removed]",
      "text/plain": [
       "<Figure size 640x480 with 1 Axes>"
      ]
     },
     "metadata": {},
     "output_type": "display_data"
    },
    {
     "name": "stdout",
     "output_type": "stream",
     "text": [
      "Area with the highest night crimes: Central\n"
     ]
    }
   ],
   "source": [
    "# Filtering crimes between 10 PM (22) and 3:59 AM (03)\n",
    "late_night_crimes = crimes[(crimes['HOUR OCC'] >= 22) | (crimes['HOUR OCC'] <= 3)]\n",
    "\n",
    "# Visualizing night crime distribution\n",
    "sns.countplot(x='HOUR OCC', data=late_night_crimes, color=\"crimson\")\n",
    "plt.title(\"Night Crime Frequency (10 PM - 3:59 AM)\")\n",
    "plt.xlabel(\"Hour of the Night\")\n",
    "plt.ylabel(\"Number of Crimes\")\n",
    "plt.show()\n",
    "\n",
    "# Counting crimes by area during night hours\n",
    "area_wise_night_crime = (\n",
    "    late_night_crimes.groupby(\"AREA NAME\")[\"HOUR OCC\"]\n",
    "    .count()\n",
    "    .reset_index(name=\"Count\")\n",
    "    .sort_values(by=\"Count\", ascending=False)\n",
    ")\n",
    "\n",
    "# Finding the area with the most night crimes\n",
    "peak_night_crime_location = area_wise_night_crime.iloc[0][\"AREA NAME\"]\n",
    "print(f\"Area with the highest night crimes: {peak_night_crime_location}\")\n"
   ]
  },
  {
   "cell_type": "markdown",
   "id": "1e678bea-0564-4200-aaf8-e90d3796ccfd",
   "metadata": {},
   "source": [
    "## 👥 Step 3: Victim Age Distribution  \n",
    "Now, let’s analyze the **age of victims**.  \n",
    "We will categorize victims into the following age groups:  \n",
    "\n",
    "- `0-17`  \n",
    "- `18-25`  \n",
    "- `26-34`  \n",
    "- `35-44`  \n",
    "- `45-54`  \n",
    "- `55-64`  \n",
    "- `65+`  \n",
    "\n",
    "Then, we’ll count the number of crimes against each group.\n"
   ]
  },
  {
   "cell_type": "code",
   "execution_count": 6,
   "id": "d794d78d-b9d5-4839-94b3-4c466620b1c4",
   "metadata": {},
   "outputs": [
    {
     "name": "stdout",
     "output_type": "stream",
     "text": [
      "Number of crimes against each age group:\n",
      "0-17      4528\n",
      "18-25    28291\n",
      "26-34    47470\n",
      "35-44    42157\n",
      "45-54    28353\n",
      "55-64    20169\n",
      "65+      14747\n",
      "Name: Vict Age, dtype: int64\n"
     ]
    }
   ],
   "source": [
    "# Define age bins and labels\n",
    "labels = [\"0-17\", \"18-25\", \"26-34\", \"35-44\", \"45-54\", \"55-64\", \"65+\"]\n",
    "bins = [0, 17, 25, 34, 44, 54, 64, np.inf]\n",
    "\n",
    "# Grouping victim ages into bins\n",
    "victim_ages = pd.cut(crimes['Vict Age'], bins=bins, labels=labels).value_counts().sort_index()\n",
    "\n",
    "# Display results\n",
    "print(\"Number of crimes against each age group:\")\n",
    "print(victim_ages)\n"
   ]
  },
  {
   "cell_type": "markdown",
   "id": "bb544d01-a683-48c6-88d0-7fa16e5dbbaf",
   "metadata": {},
   "source": [
    "# ✅ Final Results\n",
    "\n",
    "- **Peak Crime Hour**: The hour of day when crimes occur most frequently → `peak_crime_hour`  \n",
    "- **Peak Night Crime Location**: The area with the highest number of night crimes → `peak_night_crime_location`  \n",
    "- **Victim Age Groups**: Distribution of crimes against victims in each age group → `victim_ages`\n"
   ]
  }
 ],
 "metadata": {
  "kernelspec": {
   "display_name": "Python (tfenv)",
   "language": "python",
   "name": "tfenv"
  },
  "language_info": {
   "codemirror_mode": {
    "name": "ipython",
    "version": 3
   },
   "file_extension": ".py",
   "mimetype": "text/x-python",
   "name": "python",
   "nbconvert_exporter": "python",
   "pygments_lexer": "ipython3",
   "version": "3.10.18"
  }
 },
 "nbformat": 4,
 "nbformat_minor": 5
}
