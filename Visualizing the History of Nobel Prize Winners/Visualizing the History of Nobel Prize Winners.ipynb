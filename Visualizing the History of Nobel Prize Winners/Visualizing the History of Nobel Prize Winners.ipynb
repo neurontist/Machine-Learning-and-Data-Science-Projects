{
 "cells": [
  {
   "cell_type": "markdown",
   "id": "bdaa5b72-4144-40f2-8b62-2c736c574194",
   "metadata": {},
   "source": [
    "The Nobel Prize has been among the most prestigious international awards since 1901. Each year, awards are bestowed in chemistry, literature, physics, physiology or medicine, economics, and peace. In addition to the honor, prestige, and substantial prize money, the recipient also gets a gold medal with an image of Alfred Nobel (1833 - 1896), who established the prize.\n",
    "\n",
    "![](Nobel_Prize.png)\n",
    "\n",
    "The Nobel Foundation has made a dataset available of all prize winners from the outset of the awards from 1901 to 2023. The dataset used in this project is from the Nobel Prize API and is available in the `nobel.csv` file in the `data` folder.\n",
    "\n",
    "In this project, you'll get a chance to explore and answer several questions related to this prizewinning data. And we encourage you then to explore further questions that you're interested in!"
   ]
  },
  {
   "cell_type": "markdown",
   "id": "a1b738d1-6955-41b9-ade0-2ce93b955811",
   "metadata": {},
   "source": [
    "# 🏆 Nobel Prize Winners Data Analysis\n",
    "\n",
    "In this notebook, we analyze Nobel Prize winner data to identify patterns related to:\n",
    "1. 👩‍🔬👨‍🔬 Most commonly awarded **gender** and **birth country**  \n",
    "2. 🇺🇸 Decade with highest **ratio of US-born winners**  \n",
    "3. 👩 Decade & category with **highest proportion of female laureates**  \n",
    "4. 👩 First woman Nobel Prize winner and her category  \n",
    "5. 🔁 Individuals or organizations who have won **multiple Nobel Prizes**  \n",
    "\n",
    "We will use **Pandas, Seaborn, NumPy, and Matplotlib** for analysis and visualization.\n"
   ]
  },
  {
   "cell_type": "code",
   "execution_count": 1,
   "id": "73f24992-09e0-40c5-96c9-ac3a49842f84",
   "metadata": {},
   "outputs": [
    {
     "data": {
      "text/html": [
       "<div>\n",
       "<style scoped>\n",
       "    .dataframe tbody tr th:only-of-type {\n",
       "        vertical-align: middle;\n",
       "    }\n",
       "\n",
       "    .dataframe tbody tr th {\n",
       "        vertical-align: top;\n",
       "    }\n",
       "\n",
       "    .dataframe thead th {\n",
       "        text-align: right;\n",
       "    }\n",
       "</style>\n",
       "<table border=\"1\" class=\"dataframe\">\n",
       "  <thead>\n",
       "    <tr style=\"text-align: right;\">\n",
       "      <th></th>\n",
       "      <th>year</th>\n",
       "      <th>category</th>\n",
       "      <th>prize</th>\n",
       "      <th>motivation</th>\n",
       "      <th>prize_share</th>\n",
       "      <th>laureate_id</th>\n",
       "      <th>laureate_type</th>\n",
       "      <th>full_name</th>\n",
       "      <th>birth_date</th>\n",
       "      <th>birth_city</th>\n",
       "      <th>birth_country</th>\n",
       "      <th>sex</th>\n",
       "      <th>organization_name</th>\n",
       "      <th>organization_city</th>\n",
       "      <th>organization_country</th>\n",
       "      <th>death_date</th>\n",
       "      <th>death_city</th>\n",
       "      <th>death_country</th>\n",
       "    </tr>\n",
       "  </thead>\n",
       "  <tbody>\n",
       "    <tr>\n",
       "      <th>0</th>\n",
       "      <td>1901</td>\n",
       "      <td>Chemistry</td>\n",
       "      <td>The Nobel Prize in Chemistry 1901</td>\n",
       "      <td>\"in recognition of the extraordinary services ...</td>\n",
       "      <td>1/1</td>\n",
       "      <td>160</td>\n",
       "      <td>Individual</td>\n",
       "      <td>Jacobus Henricus van 't Hoff</td>\n",
       "      <td>1852-08-30</td>\n",
       "      <td>Rotterdam</td>\n",
       "      <td>Netherlands</td>\n",
       "      <td>Male</td>\n",
       "      <td>Berlin University</td>\n",
       "      <td>Berlin</td>\n",
       "      <td>Germany</td>\n",
       "      <td>1911-03-01</td>\n",
       "      <td>Berlin</td>\n",
       "      <td>Germany</td>\n",
       "    </tr>\n",
       "    <tr>\n",
       "      <th>1</th>\n",
       "      <td>1901</td>\n",
       "      <td>Literature</td>\n",
       "      <td>The Nobel Prize in Literature 1901</td>\n",
       "      <td>\"in special recognition of his poetic composit...</td>\n",
       "      <td>1/1</td>\n",
       "      <td>569</td>\n",
       "      <td>Individual</td>\n",
       "      <td>Sully Prudhomme</td>\n",
       "      <td>1839-03-16</td>\n",
       "      <td>Paris</td>\n",
       "      <td>France</td>\n",
       "      <td>Male</td>\n",
       "      <td>NaN</td>\n",
       "      <td>NaN</td>\n",
       "      <td>NaN</td>\n",
       "      <td>1907-09-07</td>\n",
       "      <td>Châtenay</td>\n",
       "      <td>France</td>\n",
       "    </tr>\n",
       "    <tr>\n",
       "      <th>2</th>\n",
       "      <td>1901</td>\n",
       "      <td>Medicine</td>\n",
       "      <td>The Nobel Prize in Physiology or Medicine 1901</td>\n",
       "      <td>\"for his work on serum therapy, especially its...</td>\n",
       "      <td>1/1</td>\n",
       "      <td>293</td>\n",
       "      <td>Individual</td>\n",
       "      <td>Emil Adolf von Behring</td>\n",
       "      <td>1854-03-15</td>\n",
       "      <td>Hansdorf (Lawice)</td>\n",
       "      <td>Prussia (Poland)</td>\n",
       "      <td>Male</td>\n",
       "      <td>Marburg University</td>\n",
       "      <td>Marburg</td>\n",
       "      <td>Germany</td>\n",
       "      <td>1917-03-31</td>\n",
       "      <td>Marburg</td>\n",
       "      <td>Germany</td>\n",
       "    </tr>\n",
       "    <tr>\n",
       "      <th>3</th>\n",
       "      <td>1901</td>\n",
       "      <td>Peace</td>\n",
       "      <td>The Nobel Peace Prize 1901</td>\n",
       "      <td>NaN</td>\n",
       "      <td>1/2</td>\n",
       "      <td>462</td>\n",
       "      <td>Individual</td>\n",
       "      <td>Jean Henry Dunant</td>\n",
       "      <td>1828-05-08</td>\n",
       "      <td>Geneva</td>\n",
       "      <td>Switzerland</td>\n",
       "      <td>Male</td>\n",
       "      <td>NaN</td>\n",
       "      <td>NaN</td>\n",
       "      <td>NaN</td>\n",
       "      <td>1910-10-30</td>\n",
       "      <td>Heiden</td>\n",
       "      <td>Switzerland</td>\n",
       "    </tr>\n",
       "    <tr>\n",
       "      <th>4</th>\n",
       "      <td>1901</td>\n",
       "      <td>Peace</td>\n",
       "      <td>The Nobel Peace Prize 1901</td>\n",
       "      <td>NaN</td>\n",
       "      <td>1/2</td>\n",
       "      <td>463</td>\n",
       "      <td>Individual</td>\n",
       "      <td>Frédéric Passy</td>\n",
       "      <td>1822-05-20</td>\n",
       "      <td>Paris</td>\n",
       "      <td>France</td>\n",
       "      <td>Male</td>\n",
       "      <td>NaN</td>\n",
       "      <td>NaN</td>\n",
       "      <td>NaN</td>\n",
       "      <td>1912-06-12</td>\n",
       "      <td>Paris</td>\n",
       "      <td>France</td>\n",
       "    </tr>\n",
       "  </tbody>\n",
       "</table>\n",
       "</div>"
      ],
      "text/plain": [
       "   year    category                                           prize  \\\n",
       "0  1901   Chemistry               The Nobel Prize in Chemistry 1901   \n",
       "1  1901  Literature              The Nobel Prize in Literature 1901   \n",
       "2  1901    Medicine  The Nobel Prize in Physiology or Medicine 1901   \n",
       "3  1901       Peace                      The Nobel Peace Prize 1901   \n",
       "4  1901       Peace                      The Nobel Peace Prize 1901   \n",
       "\n",
       "                                          motivation prize_share  laureate_id  \\\n",
       "0  \"in recognition of the extraordinary services ...         1/1          160   \n",
       "1  \"in special recognition of his poetic composit...         1/1          569   \n",
       "2  \"for his work on serum therapy, especially its...         1/1          293   \n",
       "3                                                NaN         1/2          462   \n",
       "4                                                NaN         1/2          463   \n",
       "\n",
       "  laureate_type                     full_name  birth_date         birth_city  \\\n",
       "0    Individual  Jacobus Henricus van 't Hoff  1852-08-30          Rotterdam   \n",
       "1    Individual               Sully Prudhomme  1839-03-16              Paris   \n",
       "2    Individual        Emil Adolf von Behring  1854-03-15  Hansdorf (Lawice)   \n",
       "3    Individual             Jean Henry Dunant  1828-05-08             Geneva   \n",
       "4    Individual                Frédéric Passy  1822-05-20              Paris   \n",
       "\n",
       "      birth_country   sex   organization_name organization_city  \\\n",
       "0       Netherlands  Male   Berlin University            Berlin   \n",
       "1            France  Male                 NaN               NaN   \n",
       "2  Prussia (Poland)  Male  Marburg University           Marburg   \n",
       "3       Switzerland  Male                 NaN               NaN   \n",
       "4            France  Male                 NaN               NaN   \n",
       "\n",
       "  organization_country  death_date death_city death_country  \n",
       "0              Germany  1911-03-01     Berlin       Germany  \n",
       "1                  NaN  1907-09-07   Châtenay        France  \n",
       "2              Germany  1917-03-31    Marburg       Germany  \n",
       "3                  NaN  1910-10-30     Heiden   Switzerland  \n",
       "4                  NaN  1912-06-12      Paris        France  "
      ]
     },
     "execution_count": 1,
     "metadata": {},
     "output_type": "execute_result"
    }
   ],
   "source": [
    "# Import required libraries\n",
    "import pandas as pd\n",
    "import seaborn as sns\n",
    "import numpy as np\n",
    "import re\n",
    "import matplotlib.pyplot as plt\n",
    "\n",
    "# Configure Seaborn style\n",
    "sns.set_palette(\"RdBu\")\n",
    "sns.set_context(\"paper\")\n",
    "\n",
    "# Load dataset\n",
    "nobel = pd.read_csv(\"data/nobel.csv\")\n",
    "\n",
    "# Preview dataset\n",
    "nobel.head()\n"
   ]
  },
  {
   "cell_type": "markdown",
   "id": "56f78541-7e81-49d0-b782-3cd3c9352cf6",
   "metadata": {},
   "source": [
    "## 1. Most Commonly Awarded Gender and Birth Country\n",
    "We first check the distribution of Nobel laureates by gender and by their **birth country**.\n"
   ]
  },
  {
   "cell_type": "code",
   "execution_count": 2,
   "id": "6bb71b37-1943-46ca-b6ba-4abb86a0430e",
   "metadata": {},
   "outputs": [
    {
     "data": {
      "text/plain": [
       "'Male'"
      ]
     },
     "execution_count": 2,
     "metadata": {},
     "output_type": "execute_result"
    },
    {
     "data": {
      "image/png": "[encoded data removed]",
      "text/plain": [
       "<Figure size 509.778x500 with 1 Axes>"
      ]
     },
     "metadata": {},
     "output_type": "display_data"
    }
   ],
   "source": [
    "# Gender distribution\n",
    "g = sns.catplot(x=\"sex\", data=nobel, kind=\"count\")\n",
    "g.fig.suptitle(\"Gender Count of Nobel Prize Recipients\")\n",
    "g.set(xlabel=\"Sex\", ylabel=\"Count\")\n",
    "\n",
    "# Most frequent gender\n",
    "top_gender = nobel['sex'].value_counts().index[0]\n",
    "top_gender\n"
   ]
  },
  {
   "cell_type": "code",
   "execution_count": 3,
   "id": "b26658c7-df0e-4645-95a6-325798ee7478",
   "metadata": {},
   "outputs": [
    {
     "data": {
      "image/png": "[encoded data removed]",
      "text/plain": [
       "<Figure size 640x480 with 1 Axes>"
      ]
     },
     "metadata": {},
     "output_type": "display_data"
    },
    {
     "data": {
      "text/plain": [
       "'United States of America'"
      ]
     },
     "execution_count": 3,
     "metadata": {},
     "output_type": "execute_result"
    }
   ],
   "source": [
    "# Function to clean birth_country column (handle cases like \"City (Country)\")\n",
    "def str_match(col):\n",
    "    text = str(col)\n",
    "    match = re.search(r\"\\((.*?)\\)\", text)\n",
    "    if match:\n",
    "        return match.group(1)  # Extract country in parentheses\n",
    "    else:\n",
    "        return text\n",
    "\n",
    "# Apply function to create new column\n",
    "nobel['birth_COUNTRY'] = nobel['birth_country'].apply(str_match)\n",
    "\n",
    "# Top 10 birth countries\n",
    "top_10_country = nobel['birth_COUNTRY'].value_counts().head(10)\n",
    "\n",
    "# Plot\n",
    "sns.barplot(x=top_10_country.index, y=top_10_country)\n",
    "plt.xticks(rotation=90)\n",
    "plt.xlabel(\"Countries\")\n",
    "plt.ylabel(\"Number of Nobel Laureates\")\n",
    "plt.title(\"Top 10 Birth Countries of Nobel Laureates\")\n",
    "plt.show()\n",
    "\n",
    "# Most frequent birth country\n",
    "top_country = top_10_country.index[0]\n",
    "top_country\n"
   ]
  },
  {
   "cell_type": "markdown",
   "id": "f0cbd3ee-b708-427e-95a8-2aacd4eb7028",
   "metadata": {},
   "source": [
    "## 2. Decade with Highest Ratio of US-born Winners\n",
    "We calculate the proportion of US-born Nobel laureates in each decade.  \n",
    "\n",
    "- First, create a `us_born_winner` column (True if born in USA).  \n",
    "- Then, compute ratio of US-born winners per decade.  \n",
    "- Identify the decade with the **highest ratio**.\n"
   ]
  },
  {
   "cell_type": "code",
   "execution_count": 4,
   "id": "12816f2d-969b-4f16-b628-2e9eb59cd260",
   "metadata": {},
   "outputs": [
    {
     "data": {
      "image/png": "[encoded data removed]",
      "text/plain": [
       "<Figure size 640x480 with 1 Axes>"
      ]
     },
     "metadata": {},
     "output_type": "display_data"
    },
    {
     "data": {
      "text/plain": [
       "2000"
      ]
     },
     "execution_count": 4,
     "metadata": {},
     "output_type": "execute_result"
    }
   ],
   "source": [
    "# Create flag for US-born laureates\n",
    "nobel['us_born_winner'] = nobel['birth_country'] == 'United States of America'\n",
    "\n",
    "# Create decade column\n",
    "nobel['decade'] = (np.floor(nobel['year'] / 10) * 10).astype(int)\n",
    "\n",
    "# Calculate ratio of US-born winners per decade\n",
    "decade_us_ratio = nobel.groupby('decade', as_index=False)['us_born_winner'].mean()\n",
    "\n",
    "# Identify decade with max ratio\n",
    "max_decade_usa = decade_us_ratio.loc[\n",
    "    decade_us_ratio['us_born_winner'].idxmax(), 'decade'\n",
    "]\n",
    "\n",
    "# Plot trend\n",
    "sns.lineplot(x=\"decade\", y=\"us_born_winner\", data=decade_us_ratio, marker=\"o\")\n",
    "plt.title(\"Proportion of US-born Nobel Laureates per Decade\")\n",
    "plt.ylabel(\"Proportion (US-born)\")\n",
    "plt.xlabel(\"Decade\")\n",
    "plt.show()\n",
    "\n",
    "max_decade_usa\n"
   ]
  },
  {
   "cell_type": "markdown",
   "id": "aca006ad-c27e-4f6d-b7fe-84d0f9394984",
   "metadata": {},
   "source": [
    "## 3. Decade & Category with Highest Proportion of Female Laureates\n",
    "We calculate the share of female winners per **decade and category**, then find the **maximum** combination.\n"
   ]
  },
  {
   "cell_type": "code",
   "execution_count": 5,
   "id": "4e9d8a27-6add-4ec5-9433-d0970a554346",
   "metadata": {},
   "outputs": [
    {
     "data": {
      "text/plain": [
       "{2020: 'Literature'}"
      ]
     },
     "execution_count": 5,
     "metadata": {},
     "output_type": "execute_result"
    }
   ],
   "source": [
    "# Create female winner flag\n",
    "nobel['female_winner'] = nobel['sex'] == 'Female'\n",
    "\n",
    "# Group by decade & category\n",
    "female_winner = nobel.groupby(['decade', 'category'], as_index=False)['female_winner'].mean()\n",
    "\n",
    "# Find max proportion\n",
    "max_female = female_winner.loc[female_winner['female_winner'].idxmax()]\n",
    "\n",
    "# Save as dictionary\n",
    "max_female_dict = {int(max_female['decade']): max_female['category']}\n",
    "max_female_dict\n"
   ]
  },
  {
   "cell_type": "markdown",
   "id": "43c41c57-a498-49c8-8172-204b3d5a9599",
   "metadata": {},
   "source": [
    "## 4. First Woman Nobel Laureate\n",
    "We filter female laureates, find the earliest year, and return her **name** and **category**.\n"
   ]
  },
  {
   "cell_type": "code",
   "execution_count": 6,
   "id": "0ab98792-2216-46c6-b83d-2d115b014deb",
   "metadata": {},
   "outputs": [
    {
     "data": {
      "text/plain": [
       "('Marie Curie, née Sklodowska', 'Physics')"
      ]
     },
     "execution_count": 6,
     "metadata": {},
     "output_type": "execute_result"
    }
   ],
   "source": [
    "# Filter female laureates\n",
    "female_laureates = nobel[nobel['female_winner']]\n",
    "\n",
    "# Find first female laureate\n",
    "first_woman = female_laureates.loc[female_laureates['year'].idxmin(), ['full_name', 'category']]\n",
    "\n",
    "first_woman_name = first_woman['full_name']\n",
    "first_woman_category = first_woman['category']\n",
    "\n",
    "first_woman_name, first_woman_category\n"
   ]
  },
  {
   "cell_type": "markdown",
   "id": "be88937e-a951-402d-ad18-9f178f6e9011",
   "metadata": {},
   "source": [
    "## 5. Repeat Nobel Laureates\n",
    "We identify individuals or organizations that won more than **one Nobel Prize**.\n"
   ]
  },
  {
   "cell_type": "code",
   "execution_count": 7,
   "id": "543fbd28-0605-455c-ab6c-d000d98df2d4",
   "metadata": {},
   "outputs": [
    {
     "data": {
      "text/plain": [
       "['Comité international de la Croix Rouge (International Committee of the Red Cross)',\n",
       " 'Linus Carl Pauling',\n",
       " 'John Bardeen',\n",
       " 'Frederick Sanger',\n",
       " 'Marie Curie, née Sklodowska',\n",
       " 'Office of the United Nations High Commissioner for Refugees (UNHCR)']"
      ]
     },
     "execution_count": 7,
     "metadata": {},
     "output_type": "execute_result"
    }
   ],
   "source": [
    "# Count laureates by name\n",
    "val_count = nobel['full_name'].value_counts()\n",
    "\n",
    "# Laureates with 2+ awards\n",
    "repeat_list = val_count[val_count >= 2].index.tolist()\n",
    "repeat_list\n"
   ]
  },
  {
   "cell_type": "markdown",
   "id": "09c499d5-c375-42ca-8073-31b837a6af61",
   "metadata": {},
   "source": [
    "# ✅ Summary of Results\n",
    "\n",
    "1. **Most awarded gender**: `top_gender`  \n",
    "2. **Most awarded birth country**: `top_country`  \n",
    "3. **Decade with highest ratio of US-born winners**: `max_decade_usa`  \n",
    "4. **Decade & category with highest proportion of female laureates**: `max_female_dict`  \n",
    "5. **First woman Nobel laureate**: `first_woman_name` in *`first_woman_category`*  \n",
    "6. **Repeat laureates**: `repeat_list`  \n",
    "\n",
    "---\n"
   ]
  }
 ],
 "metadata": {
  "kernelspec": {
   "display_name": "Python (tfenv)",
   "language": "python",
   "name": "tfenv"
  },
  "language_info": {
   "codemirror_mode": {
    "name": "ipython",
    "version": 3
   },
   "file_extension": ".py",
   "mimetype": "text/x-python",
   "name": "python",
   "nbconvert_exporter": "python",
   "pygments_lexer": "ipython3",
   "version": "3.10.18"
  }
 },
 "nbformat": 4,
 "nbformat_minor": 5
}
